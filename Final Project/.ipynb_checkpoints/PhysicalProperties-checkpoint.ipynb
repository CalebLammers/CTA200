{
 "cells": [
  {
   "cell_type": "code",
   "execution_count": 1,
   "metadata": {},
   "outputs": [
    {
     "ename": "ModuleNotFoundError",
     "evalue": "No module named 'PlottingSpectrum'",
     "output_type": "error",
     "traceback": [
      "\u001b[0;31m---------------------------------------------------------------------------\u001b[0m",
      "\u001b[0;31mModuleNotFoundError\u001b[0m                       Traceback (most recent call last)",
      "\u001b[0;32m<ipython-input-1-7faaf9f591fb>\u001b[0m in \u001b[0;36m<module>\u001b[0;34m\u001b[0m\n\u001b[1;32m      2\u001b[0m \u001b[0;32mimport\u001b[0m \u001b[0mnumpy\u001b[0m \u001b[0;32mas\u001b[0m \u001b[0mnp\u001b[0m\u001b[0;34m\u001b[0m\u001b[0;34m\u001b[0m\u001b[0m\n\u001b[1;32m      3\u001b[0m \u001b[0;32mimport\u001b[0m \u001b[0mmatplotlib\u001b[0m\u001b[0;34m.\u001b[0m\u001b[0mpyplot\u001b[0m \u001b[0;32mas\u001b[0m \u001b[0mplt\u001b[0m\u001b[0;34m\u001b[0m\u001b[0;34m\u001b[0m\u001b[0m\n\u001b[0;32m----> 4\u001b[0;31m \u001b[0;32mfrom\u001b[0m \u001b[0mPlottingSpectrum\u001b[0m \u001b[0;32mimport\u001b[0m \u001b[0mgenerate_SED\u001b[0m\u001b[0;34m\u001b[0m\u001b[0;34m\u001b[0m\u001b[0m\n\u001b[0m\u001b[1;32m      5\u001b[0m \u001b[0;34m\u001b[0m\u001b[0m\n\u001b[1;32m      6\u001b[0m \u001b[0;32mdef\u001b[0m \u001b[0mweighted_fitting\u001b[0m\u001b[0;34m(\u001b[0m\u001b[0mx_s\u001b[0m\u001b[0;34m,\u001b[0m \u001b[0my_s\u001b[0m\u001b[0;34m,\u001b[0m \u001b[0merrs\u001b[0m\u001b[0;34m)\u001b[0m\u001b[0;34m:\u001b[0m\u001b[0;34m\u001b[0m\u001b[0;34m\u001b[0m\u001b[0m\n",
      "\u001b[0;31mModuleNotFoundError\u001b[0m: No module named 'PlottingSpectrum'"
     ]
    }
   ],
   "source": [
    "from sympy import *\n",
    "import numpy as np\n",
    "import matplotlib.pyplot as plt\n",
    "from PlottingSpectrum import generate_SED\n",
    "\n",
    "def weighted_fitting(x_s, y_s, errs):\n",
    "    list_Y = []\n",
    "    list_A = []\n",
    "    list_C = []\n",
    "    \n",
    "    for i in range(len(x_s)):\n",
    "        list_Y.append([y_s[i]])\n",
    "        list_A.append([1, x_s[i]])\n",
    "        \n",
    "        C_row = []\n",
    "        \n",
    "        counter = 0\n",
    "        while counter < len(x_s):\n",
    "            if counter == i:\n",
    "                C_row.append(errs[i])\n",
    "            else:\n",
    "                C_row.append(0)\n",
    "                \n",
    "            counter += 1\n",
    "        \n",
    "        list_C.append(C_row)\n",
    "            \n",
    "        \n",
    "    A = Matrix(list_A)\n",
    "    Y = Matrix(list_Y)\n",
    "    C = Matrix(list_C)\n",
    "    \n",
    "    X = ((A.T*C.inv()*A).inv())*(A.T*C.inv()*Y)\n",
    "    \n",
    "    return X[0, 0], X[1, 0]"
   ]
  },
  {
   "cell_type": "code",
   "execution_count": null,
   "metadata": {},
   "outputs": [],
   "source": [
    "def calc_chi(x_s, y_s, errs, b, m):\n",
    "    chi = 0\n",
    "    for i in range(len(x_s)):\n",
    "        chi += ((y_s[i] - (b + m*x_s[i]))**2)/(errs[i]**2)\n",
    "    \n",
    "    return chi                "
   ]
  },
  {
   "cell_type": "code",
   "execution_count": null,
   "metadata": {},
   "outputs": [],
   "source": [
    "def read_file(name):\n",
    "    lst_1 = []\n",
    "    lst_2 = []\n",
    "    lst_3 = []\n",
    "    \n",
    "    with open(name) as reader:\n",
    "        for line in reader:\n",
    "            list_str = line.split()\n",
    "            if len(list_str) == 3:\n",
    "                lst_1.append(float(list_str[0]))\n",
    "                lst_2.append(float(list_str[1]))\n",
    "                lst_3.append(float(list_str[2]))\n",
    "    return lst_1, lst_2, lst_3"
   ]
  },
  {
   "cell_type": "code",
   "execution_count": null,
   "metadata": {},
   "outputs": [],
   "source": [
    "x_s, y_s, errs = read_file('fitting_simple_data.txt')\n",
    "            \n",
    "b, m = weighted_fitting(x_s, y_s, errs)\n",
    "#b = -10\n",
    "#m = 6\n",
    "print(b, m)\n",
    "x_line = np.linspace(0, 12)\n",
    "y_line = b + m*x_line       \n",
    "\n",
    "plt.figure(figsize=(15, 9))\n",
    "plt.scatter(x_s, y_s)\n",
    "\n",
    "plt.plot(x_line, y_line)\n",
    "plt.show()\n",
    "\n",
    "print(calc_chi(x_s, y_s, errs, b, m))"
   ]
  },
  {
   "cell_type": "code",
   "execution_count": null,
   "metadata": {},
   "outputs": [],
   "source": [
    "def linear_interpolation(x_s, y_s, x_val):\n",
    "    index = np.abs(x_s - x_val).argmin() #Index of x in x_s closest to x_val\n",
    "    \n",
    "    if x_s[index] > x_val:\n",
    "        l_index = index - 1\n",
    "        r_index = index\n",
    "    else:\n",
    "        l_index = index\n",
    "        r_index = index + 1\n",
    "        \n",
    "        \n",
    "    m = (y_s[r_index] - y_s[l_index])/(x_s[r_index] - x_s[l_index])\n",
    "    b = y_s[r_index] - m*x_s[r_index]\n",
    "    \n",
    "    return b + m*x_val\n",
    "\n",
    "def spectrum_likelihood(wave_obs, spec_obs, wave_theo, spec_theo):\n",
    "    epsilon = 0\n",
    "    \n",
    "    for i in range(len(wave_obs)):\n",
    "        interpol_flux = linear_interpolation(wave_theo, spec_theo, wave_obs[i])\n",
    "        \n",
    "        epsilon += ((spec_obs[i] - interpol_flux)**2)/(errs[i]**2)\n",
    "        \n",
    "    return epsilon"
   ]
  },
  {
   "cell_type": "code",
   "execution_count": null,
   "metadata": {},
   "outputs": [],
   "source": [
    "wave_obs, spec_obs, errs = read_file('fitting_spectrum_1.txt')\n",
    "\n",
    "plt.figure(figsize=(15, 9))\n",
    "plt.loglog(wave_obs, spec_obs)\n",
    "x_label = r\"$\\lambda$ ($\\AA$)\"\n",
    "plt.xlabel(x_label, fontsize=14)\n",
    "plt.xlim(10**3, 199600.0)\n",
    "y_label = r\"f$_v$  $(\\mu Jy)$\"\n",
    "plt.ylabel(y_label, fontsize=14)\n",
    "plt.ylim(10**-14, 10**-8)\n",
    "plt.show()"
   ]
  },
  {
   "cell_type": "code",
   "execution_count": null,
   "metadata": {},
   "outputs": [],
   "source": [
    "generate_SED(10, 1)"
   ]
  },
  {
   "cell_type": "code",
   "execution_count": null,
   "metadata": {},
   "outputs": [],
   "source": []
  }
 ],
 "metadata": {
  "kernelspec": {
   "display_name": "Python 3",
   "language": "python",
   "name": "python3"
  },
  "language_info": {
   "codemirror_mode": {
    "name": "ipython",
    "version": 3
   },
   "file_extension": ".py",
   "mimetype": "text/x-python",
   "name": "python",
   "nbconvert_exporter": "python",
   "pygments_lexer": "ipython3",
   "version": "3.7.3"
  }
 },
 "nbformat": 4,
 "nbformat_minor": 2
}
